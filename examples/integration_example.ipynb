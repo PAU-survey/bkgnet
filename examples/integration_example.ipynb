{
 "cells": [
  {
   "cell_type": "code",
   "execution_count": 1,
   "metadata": {},
   "outputs": [],
   "source": [
    "%load_ext autoreload\n",
    "%autoreload 2\n",
    "%matplotlib inline\n",
    "\n",
    "import os"
   ]
  },
  {
   "cell_type": "markdown",
   "metadata": {},
   "source": [
    "# Example running on test data. This part will not require integration."
   ]
  },
  {
   "cell_type": "markdown",
   "metadata": {},
   "source": [
    "For running the example you can find test data and pretrained model\n",
    "here:\n",
    "\n",
    "https://www.dropbox.com/sh/2yz76iidhwk9k1l/AAANFkXNIJW3o5QIwpQf8Azqa?dl=0\n",
    "\n",
    "Please download the \"test_data\" and \"models\" directories. Where these are\n",
    "stored is configured below."
   ]
  },
  {
   "cell_type": "code",
   "execution_count": 2,
   "metadata": {},
   "outputs": [],
   "source": [
    "cat_dir = '/cephfs/pic.es/astro/scratch/lcabayol/background_estimation/'\n",
    "data_dir = '/cephfs/pic.es/astro/scratch/lcabayol/background_estimation/img_test'\n",
    "\n",
    "img_fname = 'red_paucam.12753.1003.0221.FT_NB615_NB685.2469534.std.01.fits'\n",
    "img_path = os.path.join(data_dir, img_fname)\n",
    "\n",
    "model_dir = '/cephfs/pic.es/astro/scratch/lcabayol/background_estimation/models_bkg/'\n"
   ]
  },
  {
   "cell_type": "code",
   "execution_count": 3,
   "metadata": {},
   "outputs": [],
   "source": [
    "import libexample\n",
    "from astropy.io import fits\n",
    "\n",
    "# Band and exposure numbers\n",
    "band = libexample.get_band(img_path)\n",
    "exp_num = libexample.get_expnum(img_path)\n",
    "\n",
    "# Image\n",
    "hdul = fits.open(img_path)\n",
    "img = hdul[0].data\n",
    "\n",
    "# Pixel positions\n",
    "cosmos_path = os.path.join(cat_dir,'cosmos.csv')\n",
    "refcat = libexample.load_cosmos(cosmos_path)\n",
    "\n",
    "header = fits.getheader(img_path)\n",
    "header['CTYPE1'], header['CTYPE2'] = 'RA---TPV','DEC--TPV'\n",
    "\n",
    "coords_pix = libexample.get_pixelpos(refcat, header)\n",
    "coords_pix = coords_pix.drop_duplicates()\n",
    "\n",
    "coords_pix = coords_pix[(coords_pix.x > 0)&(coords_pix.y > 0)&(coords_pix.y < 2048)&(coords_pix.x < 4096)]"
   ]
  },
  {
   "cell_type": "code",
   "execution_count": 4,
   "metadata": {},
   "outputs": [],
   "source": [
    "coords_pix = coords_pix.join(refcat, on = ['ref_id'])"
   ]
  },
  {
   "cell_type": "code",
   "execution_count": 5,
   "metadata": {},
   "outputs": [],
   "source": [
    "coords_pix = coords_pix[coords_pix.exp_num == exp_num]"
   ]
  },
  {
   "cell_type": "markdown",
   "metadata": {},
   "source": [
    "# Background estimation"
   ]
  },
  {
   "cell_type": "code",
   "execution_count": 7,
   "metadata": {},
   "outputs": [
    {
     "name": "stdout",
     "output_type": "stream",
     "text": [
      "NB685 1\n"
     ]
    }
   ],
   "source": [
    "import bkgnet\n",
    "\n",
    "model_path = os.path.join(model_dir, 'model_COSMOS_error_all_v9_34.pt')\n",
    "\n",
    "net = bkgnet.BKGnet(model_path)\n",
    "X = net.background_img(img, coords_pix,coords_pix.I_auto.values, band, exp_num)"
   ]
  },
  {
   "cell_type": "code",
   "execution_count": 9,
   "metadata": {},
   "outputs": [
    {
     "data": {
      "text/plain": [
       "(0.0, 10.0)"
      ]
     },
     "execution_count": 9,
     "metadata": {},
     "output_type": "execute_result"
    },
    {
     "data": {
      "image/png": "[encoded data removed]",
      "text/plain": [
       "<Figure size 432x288 with 1 Axes>"
      ]
     },
     "metadata": {
      "needs_background": "light"
     },
     "output_type": "display_data"
    },
    {
     "data": {
      "image/png": "[encoded data removed]",
      "text/plain": [
       "<Figure size 432x288 with 2 Axes>"
      ]
     },
     "metadata": {
      "needs_background": "light"
     },
     "output_type": "display_data"
    }
   ],
   "source": [
    "# This code is for making a quick test plot comparing\n",
    "# the network prediction and individual pixel values in\n",
    "# the image. These are *not* supposed to be the same, but\n",
    "# to peak around the same value.\n",
    "import pandas as pd\n",
    "K = {'histtype': 'step', 'density': True}\n",
    "S = pd.Series(img.flatten()) #\n",
    "\n",
    "S[S < 100].hist(bins=2000, **K)\n",
    "X.hist(bins=20, **K)\n",
    "\n",
    "from matplotlib import pyplot as plt\n",
    "plt.xlim(0, 10)"
   ]
  },
  {
   "cell_type": "code",
   "execution_count": null,
   "metadata": {},
   "outputs": [],
   "source": []
  }
 ],
 "metadata": {
  "kernelspec": {
   "display_name": "ML",
   "language": "python",
   "name": "ml"
  },
  "language_info": {
   "codemirror_mode": {
    "name": "ipython",
    "version": 3
   },
   "file_extension": ".py",
   "mimetype": "text/x-python",
   "name": "python",
   "nbconvert_exporter": "python",
   "pygments_lexer": "ipython3",
   "version": "3.7.3"
  }
 },
 "nbformat": 4,
 "nbformat_minor": 4
}
