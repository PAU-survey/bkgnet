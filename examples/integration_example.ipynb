{
 "cells": [
  {
   "cell_type": "code",
   "execution_count": 25,
   "metadata": {},
   "outputs": [
    {
     "name": "stdout",
     "output_type": "stream",
     "text": [
      "The autoreload extension is already loaded. To reload it, use:\n",
      "  %reload_ext autoreload\n"
     ]
    }
   ],
   "source": [
    "%load_ext autoreload\n",
    "%autoreload 2\n",
    "%matplotlib inline\n",
    "\n",
    "import os"
   ]
  },
  {
   "cell_type": "markdown",
   "metadata": {},
   "source": [
    "# Example running on test data. This part will not require integration."
   ]
  },
  {
   "cell_type": "markdown",
   "metadata": {},
   "source": [
    "For running the example you can find test data and pretrained model\n",
    "here:\n",
    "\n",
    "https://www.dropbox.com/sh/2yz76iidhwk9k1l/AAANFkXNIJW3o5QIwpQf8Azqa?dl=0\n",
    "\n",
    "Please download the \"test_data\" and \"models\" directories. Where these are\n",
    "stored is configured below."
   ]
  },
  {
   "cell_type": "code",
   "execution_count": 26,
   "metadata": {},
   "outputs": [],
   "source": [
    "data_dir = '/home/eriksen/data/bkgnet'\n",
    "\n",
    "img_fname = 'red_paucam.13584.0959.0133.FT_NB615_NB685.2470402.std.02.fits'\n",
    "img_path = os.path.join(data_dir, 'test_data', img_fname)\n",
    "\n"
   ]
  },
  {
   "cell_type": "code",
   "execution_count": 27,
   "metadata": {},
   "outputs": [],
   "source": [
    "# This library contains functionality which is only needed for running\n",
    "# tests on an image.\n",
    "import libexample\n",
    "from astropy.io import fits\n",
    "\n",
    "# Band and exposure numbers\n",
    "band = libexample.get_band(img_path)\n",
    "exp_num = libexample.get_expnum(img_path)\n",
    "\n",
    "# Image\n",
    "hdul = fits.open(img_path)\n",
    "img = hdul[0].data\n",
    "\n",
    "# Pixel positions\n",
    "cosmos_path = os.path.join(data_dir, 'test_data', 'cosmos.csv')\n",
    "refcat = libexample.load_cosmos(cosmos_path)\n",
    "\n",
    "header = fits.getheader(img_path)\n",
    "header['CTYPE1'], header['CTYPE2'] = 'RA---TPV','DEC--TPV'\n",
    "\n",
    "coords_pix = libexample.get_pixelpos(refcat, header)"
   ]
  },
  {
   "cell_type": "markdown",
   "metadata": {},
   "source": [
    "# Background estimation"
   ]
  },
  {
   "cell_type": "code",
   "execution_count": 30,
   "metadata": {},
   "outputs": [],
   "source": [
    "import bkgnet\n",
    "\n",
    "# Use a different network before and after intervention.\n",
    "interv = 'after' if 13 < exp_num else 'before'\n",
    "model_path = os.path.join(data_dir, 'models', 'COSMOS_{}_v2.pt'.format(interv))\n",
    "\n",
    "net = bkgnet.BKGnet(model_path)\n",
    "X = net.background_img(img, coords_pix, band)"
   ]
  },
  {
   "cell_type": "code",
   "execution_count": 31,
   "metadata": {},
   "outputs": [
    {
     "name": "stderr",
     "output_type": "stream",
     "text": [
      "/home/eriksen/anaconda3/lib/python3.6/site-packages/matplotlib/axes/_axes.py:6462: UserWarning: The 'normed' kwarg is deprecated, and has been replaced by the 'density' kwarg.\n",
      "  warnings.warn(\"The 'normed' kwarg is deprecated, and has been \"\n"
     ]
    },
    {
     "data": {
      "text/plain": [
       "(0, 10)"
      ]
     },
     "execution_count": 31,
     "metadata": {},
     "output_type": "execute_result"
    },
    {
     "data": {
      "image/png": "[encoded data removed]",
      "text/plain": [
       "<Figure size 432x288 with 1 Axes>"
      ]
     },
     "metadata": {},
     "output_type": "display_data"
    }
   ],
   "source": [
    "# This code is for making a quick test plot comparing\n",
    "# the network prediction and individual pixel values in\n",
    "# the image. These are *not* supposed to be the same, but\n",
    "# to peak around the same value.\n",
    "import pandas as pd\n",
    "K = {'histtype': 'step', 'normed': True}\n",
    "S = pd.Series(img.flatten()) #\n",
    "\n",
    "S[S < 100].hist(bins=2000, **K)\n",
    "X.hist(bins=20, **K)\n",
    "\n",
    "from matplotlib import pyplot as plt\n",
    "plt.xlim(0, 10)"
   ]
  }
 ],
 "metadata": {
  "kernelspec": {
   "display_name": "Python 3",
   "language": "python",
   "name": "python3"
  },
  "language_info": {
   "codemirror_mode": {
    "name": "ipython",
    "version": 3
   },
   "file_extension": ".py",
   "mimetype": "text/x-python",
   "name": "python",
   "nbconvert_exporter": "python",
   "pygments_lexer": "ipython3",
   "version": "3.6.5"
  }
 },
 "nbformat": 4,
 "nbformat_minor": 2
}
